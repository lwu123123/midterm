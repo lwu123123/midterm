{
  "nbformat": 4,
  "nbformat_minor": 0,
  "metadata": {
    "kernelspec": {
      "display_name": "Python 3",
      "language": "python",
      "name": "python3"
    },
    "language_info": {
      "codemirror_mode": {
        "name": "ipython",
        "version": 3
      },
      "file_extension": ".py",
      "mimetype": "text/x-python",
      "name": "python",
      "nbconvert_exporter": "python",
      "pygments_lexer": "ipython3",
      "version": "3.7.7"
    },
    "colab": {
      "name": "Final ",
      "provenance": [],
      "include_colab_link": true
    }
  },
  "cells": [
    {
      "cell_type": "markdown",
      "metadata": {
        "id": "view-in-github",
        "colab_type": "text"
      },
      "source": [
        "<a href=\"https://colab.research.google.com/github/lwu123123/midterm/blob/master/Final.ipynb\" target=\"_parent\"><img src=\"https://colab.research.google.com/assets/colab-badge.svg\" alt=\"Open In Colab\"/></a>"
      ]
    },
    {
      "cell_type": "markdown",
      "metadata": {
        "id": "9AQOVgXW9d2t"
      },
      "source": [
        "# Final : Current and Magnetic Field \n",
        "\n",
        "\n",
        "*Lei Wu*\n",
        "\n"
      ]
    },
    {
      "cell_type": "markdown",
      "metadata": {
        "id": "I2iWrsiBl7Jp"
      },
      "source": [
        "Background: \n",
        "\n",
        " As the electric car is hot, the electric motor is more and more, so how much electricity turns how fast? Now I will make a simulator of electric motor. During this process we will look at the total power, and the final speed, through my simulator.\n",
        "\n",
        "Way：\n",
        "\n",
        "On this occasion, we will use the electromagnetic field equation (given in the following document) to simulate the magnitude of the magnetic field for a certain current. The reason for choosing EMF here is that we can control the magnitude of the magnetic field by controlling the amount of electricity, Q, time, t, to control the magnitude of the field. The speed in the magnetic field is then calculated by doing work.\n",
        "\n",
        "Analysis：\n",
        "\n",
        "The final value deviates from reality, and real electricity will overheat, there will be errors, and there will be energy loss. But this is not a problem, we just need to add the loss factor (maybe the factor is another formula) and we can continue working on the basis of my simulator.\n",
        "\n",
        "Future:\n",
        "\n",
        "In real life, we need to observe the power and speed, and for electric cars, if we can use computers to simulate it, then we can do more experiments without making the material into an electric motor and then loading it into a car to experiment. Thus saving more time cost and financial cost. Also, while I was doing this, I discovered that magnetic fields can also act on a single electron or charged object. If it can be observed we will be able to control its speed by means of magnetic field, and likewise my simulator can be refined and simulated.\n",
        "\n"
      ]
    },
    {
      "cell_type": "markdown",
      "metadata": {
        "id": "B0Y7JZGc9d2w"
      },
      "source": [
        "## 1. Current in Magnetic Field \n",
        "What I am going to do:\n",
        "* A function, $B=μ_0Qdt/(L)$\n",
        "* A function, $W=1/2*Qdt*ω^2$ \n",
        "* A function, $$ W = \\int_0^\\pi\\; μB \\sin \\theta \\!d\\theta\\,=2μB $$\n",
        "* A Function, $μ=nIA$\n",
        "* Put B into second\n",
        "* Put $μ=nIA$ to second one \n",
        "we can get the final equation\n",
        "* A function, $ω=(2*n*A*μ0*𝑄𝑑𝑡/(𝐿)^(-2)$\n",
        "* μ_0 is  4π*10^(-7)  N/(A)^2.\n",
        "* L is distance of wires\n",
        "* n is number of loop\n",
        "* A is the area affected by the rotating object\n",
        "* I is current Q/t\n",
        "\n",
        "Formula source *[HyperPhysics](http://hyperphysics.phy-astr.gsu.edu/hbase/magnetic/magforcon.html#c1)* ."
      ]
    },
    {
      "cell_type": "code",
      "metadata": {
        "id": "Dfb4HcR59d2y"
      },
      "source": [
        "import numpy as np\n",
        "\n",
        "def v(Q,L,t):\n",
        "    A=0.05\n",
        "    n=20\n",
        "    μ_0=4*np.pi*0.0000001\n",
        "    ω=((2*n*A*μ_0*Q)/(L*t))**(-2)\n",
        "    return  ω\n",
        "\n",
        "   \n",
        "  \n",
        "\n",
        "\n",
        "    \n",
        " # Return the result here"
      ],
      "execution_count": null,
      "outputs": []
    },
    {
      "cell_type": "markdown",
      "metadata": {
        "id": "Tkjz7azg9d3C"
      },
      "source": [
        "### 1.b. Test the function\n",
        "\n"
      ]
    },
    {
      "cell_type": "code",
      "metadata": {
        "id": "_1HZ-olg9d3D",
        "colab": {
          "base_uri": "https://localhost:8080/"
        },
        "outputId": "11bfbd23-820a-4811-b157-48116b922285"
      },
      "source": [
        "print(v(1,1,1))\n"
      ],
      "execution_count": null,
      "outputs": [
        {
          "output_type": "stream",
          "text": [
            "39578587360.28819\n"
          ],
          "name": "stdout"
        }
      ]
    },
    {
      "cell_type": "code",
      "metadata": {
        "id": "hooQHERD2cC0"
      },
      "source": [
        "def B(Q,L,t):\n",
        "    μ_0=4*np.pi*0.0000001\n",
        "    return μ_0*Q/(L*t)\n",
        "    "
      ],
      "execution_count": null,
      "outputs": []
    },
    {
      "cell_type": "code",
      "metadata": {
        "colab": {
          "base_uri": "https://localhost:8080/"
        },
        "id": "LlCEMH4X4cgF",
        "outputId": "c3b31efb-ff13-46cc-83a2-5dcb859eaf97"
      },
      "source": [
        "print(B(1,1,1))"
      ],
      "execution_count": null,
      "outputs": [
        {
          "output_type": "stream",
          "text": [
            "1.2566370614359173e-06\n"
          ],
          "name": "stdout"
        }
      ]
    },
    {
      "cell_type": "code",
      "metadata": {
        "colab": {
          "base_uri": "https://localhost:8080/",
          "height": 331
        },
        "id": "cPIZgkJbkKul",
        "outputId": "06ccf3e8-4aca-441a-d932-686bd5280ff0"
      },
      "source": [
        "import numpy as np\n",
        "import seaborn as sns\n",
        "import matplotlib.pyplot as plt\n",
        "\n",
        "μ_0=4*np.pi*0.0000001\n",
        "\n",
        "Q0 = 1 \n",
        "L0 = 1 \n",
        "dt = 1 \n",
        "time = np.arange(0, 1+dt, dt) \n",
        "\n",
        "Qlist =[]\n",
        "Llist =[]\n",
        "\n",
        "\n",
        "Q = Q0\n",
        "L = L0\n",
        "\n",
        "\n",
        "for t in time:\n",
        "  Qlist.append(Q)\n",
        "  Q = Q + (dt * B(Q,L,t))\n",
        "  Llist.append(L)\n",
        "  L = L + (dt * B(Q,L,t))\n",
        "\n",
        "\n",
        "  plt.plot(t,Q)\n",
        "  plt.plot(t,L)\n",
        "  plt.xlabel(r'$t$')\n",
        "  plt.ylabel(r'$Q$')\n",
        "  plt.title(\"Amount of electricity\");"
      ],
      "execution_count": null,
      "outputs": [
        {
          "output_type": "stream",
          "text": [
            "/usr/local/lib/python3.6/dist-packages/ipykernel_launcher.py:3: RuntimeWarning: divide by zero encountered in true_divide\n",
            "  This is separate from the ipykernel package so we can avoid doing imports until\n"
          ],
          "name": "stderr"
        },
        {
          "output_type": "display_data",
          "data": {
            "image/png": "[encoded data removed]",
            "text/plain": [
              "<Figure size 432x288 with 1 Axes>"
            ]
          },
          "metadata": {
            "tags": [],
            "needs_background": "light"
          }
        }
      ]
    }
  ]
}