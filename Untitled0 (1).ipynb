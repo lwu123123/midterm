{
  "nbformat": 4,
  "nbformat_minor": 0,
  "metadata": {
    "colab": {
      "name": "Untitled0.ipynb",
      "provenance": []
    },
    "kernelspec": {
      "name": "python3",
      "display_name": "Python 3"
    }
  },
  "cells": [
    {
      "cell_type": "code",
      "metadata": {
        "id": "haGwhxDYokOG"
      },
      "source": [
        ""
      ],
      "execution_count": null,
      "outputs": []
    },
    {
      "cell_type": "markdown",
      "metadata": {
        "id": "CbG5R_tQ3wxo"
      },
      "source": [
        "Lei Wu \n",
        "PHYS 177\n",
        "11/20/2020\n",
        "Introduces： Bernoulli’s principle is a formula on fluid mechanics that was published in *Hydrodynamica*, in 1738.\n",
        "1/2*v_1^2+g*z+p/ρ= constant\n",
        "\n",
        "V= π*R^2*z\n",
        "Vdt= V/t \n",
        "1/2v^2dt+gzdt+(pdt)/ρ=constant\n",
        "V is volume of water.\n",
        "v _1 is liquid speed.\n",
        "g is the acceleration of gravity.\n",
        "z is the high of the point in the direction opposite to the gravitational acceleration.\n",
        "p is the pressure \n",
        "ρ is the density of the fluid\n",
        "\n",
        "\n",
        "We simulate an experiment in which a cylindrical wooden barrel without a lid is filled with water and a 10 cm diameter circular cavity is cut in the bottom of the barrel. After a certain amount of time, all the water in the barrel will be lost. We can obtain the amount of change in the water with time t (V dt). As the water decreases, the height of the bucket also decreases, which also affects the rate at which the water flows out. The water in the barrel will be lost after a certain time.\n",
        "Calculate the volume of water lost for t=0 to t=1.\n",
        "Draw a graph of the volume v and time t, and the velocity v and time t.\n",
        "\n",
        "For real example：\n",
        "We can simulate a real-life fuel tank leak and estimate how long it will take to run out of fuel by the rate of loss. In life we can estimate the extent of the damage and how much driving time is left.\n",
        "\n",
        "\n",
        "\n",
        "\n",
        "\n",
        "Bernoulli’s principle \n",
        "https://en.wikipedia.org/wiki/Bernoulli%27s_principle"
      ]
    }
  ]
}